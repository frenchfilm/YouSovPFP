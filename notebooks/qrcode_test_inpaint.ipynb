{
 "cells": [
  {
   "cell_type": "code",
   "execution_count": null,
   "metadata": {},
   "outputs": [],
   "source": [
    "from diffusers import StableDiffusionXLInpaintPipeline, AutoencoderKL\n",
    "import torch\n",
    "from PIL import Image, ImageOps\n",
    "import numpy as np\n",
    "import os"
   ]
  },
  {
   "cell_type": "code",
   "execution_count": null,
   "metadata": {},
   "outputs": [],
   "source": [
    "vae = AutoencoderKL.from_pretrained(\"stabilityai/sdxl-vae\", torch_dtype=torch.float16)\n",
    "inpaint_pipe = StableDiffusionXLInpaintPipeline.from_single_file(\n",
    "    \"/home/oleksandr/projects/upwork/schouwey-shopify/models/juggerxlInpaint_juggerInpaintV8.safetensors\", \n",
    "    original_config_file=\"/home/oleksandr/projects/upwork/schouwey-shopify/models/sd_xl_inpaint_config.yaml\",\n",
    "    vae=vae,\n",
    "    torch_dtype=torch.float16).to(\"cuda\")"
   ]
  },
  {
   "cell_type": "code",
   "execution_count": null,
   "metadata": {},
   "outputs": [],
   "source": [
    "qrimg = Image.open(\"/home/oleksandr/projects/upwork/esov-api/tmp/qr/Piece 01.png\")\n",
    "style_fold = \"/home/oleksandr/projects/upwork/esov-api/tmp/qr/Reference - General Style\"\n",
    "img_fold = \"/home/oleksandr/projects/upwork/esov-api/tmp/qr/Style Scene 001\"\n",
    "\n",
    "style_imgs = []\n",
    "for file in os.listdir(style_fold):\n",
    "    style_img = Image.open(os.path.join(style_fold, file)).convert(\"RGB\")\n",
    "    style_imgs.append(style_img)\n",
    "\n",
    "imgs = []\n",
    "for file in os.listdir(img_fold):\n",
    "    img = Image.open(os.path.join(img_fold, file)).convert(\"RGB\")\n",
    "    imgs.append(img)\n",
    "\n",
    "print(f\"QR Image size: {qrimg.size}\")\n",
    "print(f\"Style Image size: {style_imgs[0].size}\")\n",
    "print(f\"Image size: {imgs[0].size}\")"
   ]
  },
  {
   "cell_type": "code",
   "execution_count": null,
   "metadata": {},
   "outputs": [],
   "source": [
    "ImageOps.invert(qrimg.convert(\"L\")).convert(\"L\")"
   ]
  },
  {
   "cell_type": "code",
   "execution_count": null,
   "metadata": {},
   "outputs": [],
   "source": [
    "# overlay img[0] and qrimg with qrimg mask and 0.5 blend\n",
    "qr_img_resized = qrimg.resize(imgs[0].size).convert(\"RGBA\")\n",
    "to_blend = imgs[0].copy().convert(\"RGBA\")\n",
    "blended = Image.blend(to_blend, qr_img_resized, 0.7)\n",
    "pasted = imgs[0].copy()\n",
    "pasted.paste(blended, (0, 0), ImageOps.invert(qrimg.convert(\"L\")).resize(imgs[0].size))\n",
    "pasted"
   ]
  },
  {
   "cell_type": "code",
   "execution_count": null,
   "metadata": {},
   "outputs": [],
   "source": [
    "w=1024\n",
    "h=1024\n",
    "\n",
    "generator = torch.Generator(device=\"cuda\").manual_seed(1)\n",
    "inpaint_pipe(\n",
    "    \"black color\",\n",
    "    negative_prompt=\"white color\",\n",
    "    image=pasted.resize((w, h)),\n",
    "    mask_image=qrimg.convert(\"L\"),\n",
    "    strength=0.5,\n",
    "    guidance_scale=20,\n",
    "    num_inference_steps=20,\n",
    "    generator=generator,\n",
    "    w=w,\n",
    "    h=h,\n",
    ").images[0]"
   ]
  }
 ],
 "metadata": {
  "kernelspec": {
   "display_name": "fantastic",
   "language": "python",
   "name": "python3"
  },
  "language_info": {
   "codemirror_mode": {
    "name": "ipython",
    "version": 3
   },
   "file_extension": ".py",
   "mimetype": "text/x-python",
   "name": "python",
   "nbconvert_exporter": "python",
   "pygments_lexer": "ipython3",
   "version": "3.8.18"
  }
 },
 "nbformat": 4,
 "nbformat_minor": 2
}
