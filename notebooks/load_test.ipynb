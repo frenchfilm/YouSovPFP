{
 "cells": [
  {
   "cell_type": "code",
   "execution_count": null,
   "metadata": {},
   "outputs": [],
   "source": [
    "import requests\n",
    "import time\n",
    "import threading\n",
    "\n",
    "url = 'https://us-central1-valiant-well-408716.cloudfunctions.net/api'\n",
    "headers = {'x-api-key': '4a94-a79a-1c32ef6ddebf-c5ed0f92-dc92'}\n",
    "response_times = []\n",
    "status_200 = 0\n",
    "status_non_200 = 0\n",
    "lock = threading.Lock()\n",
    "\n",
    "def send_request():\n",
    "    global status_200, status_non_200\n",
    "    start_time = time.time()\n",
    "    response = requests.get(url, headers=headers)\n",
    "    response_time = time.time() - start_time\n",
    "    with lock:\n",
    "        response_times.append(response_time)\n",
    "        if response.status_code == 200:\n",
    "            status_200 += 1\n",
    "        else:\n",
    "            status_non_200 += 1\n",
    "\n",
    "threads = [threading.Thread(target=send_request) for _ in range(1000)]\n",
    "\n",
    "for thread in threads:\n",
    "    print(f'Starting {thread.name}')\n",
    "    thread.start()\n",
    "\n",
    "for thread in threads:\n",
    "    thread.join()\n",
    "    print(f'Ending {thread.name}')\n",
    "\n",
    "min_response = min(response_times)\n",
    "max_response = max(response_times)\n",
    "avg_response = sum(response_times) / len(response_times)\n",
    "\n",
    "print(f'Min Response Time: {min_response}')\n",
    "print(f'Max Response Time: {max_response}')\n",
    "print(f'Average Response Time: {avg_response}')\n",
    "print(f'Number of 200 responses: {status_200}')\n",
    "print(f'Number of non-200 responses: {status_non_200}')"
   ]
  }
 ],
 "metadata": {
  "kernelspec": {
   "display_name": "fantastic",
   "language": "python",
   "name": "python3"
  },
  "language_info": {
   "codemirror_mode": {
    "name": "ipython",
    "version": 3
   },
   "file_extension": ".py",
   "mimetype": "text/x-python",
   "name": "python",
   "nbconvert_exporter": "python",
   "pygments_lexer": "ipython3",
   "version": "3.8.16"
  }
 },
 "nbformat": 4,
 "nbformat_minor": 2
}
