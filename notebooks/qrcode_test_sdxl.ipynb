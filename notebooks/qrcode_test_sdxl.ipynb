{
 "cells": [
  {
   "cell_type": "code",
   "execution_count": null,
   "metadata": {},
   "outputs": [],
   "source": [
    "from diffusers import StableDiffusionXLImg2ImgPipeline, StableDiffusionXLControlNetImg2ImgPipeline, AutoencoderKL, ControlNetModel, DDIMScheduler\n",
    "from diffusers.utils import load_image\n",
    "import torch\n",
    "from PIL import Image, ImageOps\n",
    "import numpy as np\n",
    "import os, sys"
   ]
  },
  {
   "cell_type": "code",
   "execution_count": null,
   "metadata": {},
   "outputs": [],
   "source": [
    "__file__ = os.path.abspath('')\n",
    "sys.path.insert(0, os.path.abspath(\n",
    "    os.path.join(os.path.dirname(__file__))))\n",
    "sys.path.insert(0, os.path.abspath(\n",
    "    os.path.join(os.path.dirname(__file__), '..')))\n",
    "sys.path.insert(0, os.path.abspath(\n",
    "    os.path.join(os.path.dirname(__file__), '../..')))\n",
    "from diffusion.common.SDXLLongPromptWeightingPipeline import get_weighted_text_embeddings_sdxl\n",
    "\n",
    "def set_lpw_embeeds_sdxl(pipeline, prompt, neg_prompt, num_images_per_prompt, kwargs):\n",
    "    (\n",
    "            prompt_embeds,\n",
    "            negative_prompt_embeds,\n",
    "            pooled_prompt_embeds,\n",
    "            negative_pooled_prompt_embeds,\n",
    "    ) = get_weighted_text_embeddings_sdxl(\n",
    "            pipe=pipeline, prompt=prompt, neg_prompt=neg_prompt, num_images_per_prompt=num_images_per_prompt\n",
    "    )\n",
    "\n",
    "    kwargs['prompt_embeds'] = prompt_embeds\n",
    "    kwargs['negative_prompt_embeds'] = negative_prompt_embeds\n",
    "    kwargs['pooled_prompt_embeds'] = pooled_prompt_embeds\n",
    "    kwargs['negative_pooled_prompt_embeds'] = negative_pooled_prompt_embeds\n",
    "    return kwargs\n",
    "\n",
    "def resize_for_condition_image(input_image: Image, resolution: int):\n",
    "    input_image = input_image.convert(\"RGB\")\n",
    "    W, H = input_image.size\n",
    "    k = float(resolution) / min(H, W)\n",
    "    H *= k\n",
    "    W *= k\n",
    "    H = int(round(H / 64.0)) * 64\n",
    "    W = int(round(W / 64.0)) * 64\n",
    "    img = input_image.resize((W, H), resample=Image.LANCZOS)\n",
    "    return img"
   ]
  },
  {
   "cell_type": "code",
   "execution_count": null,
   "metadata": {},
   "outputs": [],
   "source": [
    "class NoWatermark:\n",
    "    def apply_watermark(self, img):\n",
    "        return img\n",
    "\n",
    "controlnet = ControlNetModel.from_pretrained(\n",
    "  \"monster-labs/control_v1p_sdxl_qrcode_monster\",\n",
    "  torch_dtype=torch.float16\n",
    ").to(\"cuda\")\n",
    "\n",
    "# base_pipeline = StableDiffusionImg2ImgPipeline.from_single_file(\"/home/oleksandr/projects/upwork/esov-api/models/realisticVisionV60B1_v51VAE.safetensors\", torch_dtype=torch.float16).to(\"cuda\")\n",
    "base_pipeline = StableDiffusionXLImg2ImgPipeline.from_single_file(\n",
    "    \"/home/oleksandr/projects/upwork/LoDi-Engine-Runpod/models_hotswap/zavychromaxl_v30.10003.safetensors\", \n",
    "\n",
    "    torch_dtype=torch.float16).to(torch.device('cuda'))\n",
    "# vae = AutoencoderKL.from_single_file(\"/home/oleksandr/projects/upwork/esov-api/models/vae-ft-mse-840000-ema-pruned.ckpt\", torch_dtype=torch.float16).to(\"cuda\")\n",
    "# base_pipeline.vae = vae\n",
    "cn_pipeline = StableDiffusionXLControlNetImg2ImgPipeline(**base_pipeline.components, controlnet=controlnet).to(\"cuda\")\n",
    "\n",
    "\n",
    "# cn_pipeline = StableDiffusionControlNetImg2ImgPipeline.from_pretrained(\n",
    "#     \"stabilityai/stable-diffusion-2-1\",\n",
    "#     safety_checker=None,\n",
    "#     torch_dtype=torch.float16,\n",
    "#     controlnet=controlnet\n",
    "# ).to(\"cuda\")\n",
    "cn_pipeline.scheduler = DDIMScheduler.from_config(cn_pipeline.scheduler.config)\n",
    "cn_pipeline.watermark = NoWatermark()"
   ]
  },
  {
   "cell_type": "code",
   "execution_count": null,
   "metadata": {},
   "outputs": [],
   "source": [
    "qrimg = Image.open(\"/home/oleksandr/projects/upwork/esov-api/tmp/qr/Piece 01.png\")\n",
    "style_fold = \"/home/oleksandr/projects/upwork/esov-api/tmp/qr/Reference - General Style\"\n",
    "img_fold = \"/home/oleksandr/projects/upwork/esov-api/tmp/qr/Style Scene 001\"\n",
    "\n",
    "style_imgs = []\n",
    "for file in os.listdir(style_fold):\n",
    "    style_img = Image.open(os.path.join(style_fold, file)).convert(\"RGB\")\n",
    "    style_imgs.append(style_img)\n",
    "\n",
    "imgs = []\n",
    "for file in os.listdir(img_fold):\n",
    "    img = Image.open(os.path.join(img_fold, file)).convert(\"RGB\")\n",
    "    imgs.append(img)\n",
    "testqr = load_image(\"https://boofcv.org/images/3/35/Example_rendered_qrcode.png\")\n",
    "print(f\"QR Image size: {qrimg.size}\")\n",
    "print(f\"Style Image size: {style_imgs[0].size}\")\n",
    "print(f\"Image size: {imgs[0].size}\")"
   ]
  },
  {
   "cell_type": "code",
   "execution_count": null,
   "metadata": {},
   "outputs": [],
   "source": [
    "# overlay img[0] and qrimg with qrimg mask and 0.5 blend\n",
    "qr_img_resized = qrimg.resize(imgs[0].size).convert(\"RGBA\")\n",
    "to_blend = imgs[0].copy().convert(\"RGBA\")\n",
    "blended = Image.blend(to_blend, qr_img_resized, 0.7)\n",
    "pasted = imgs[0].copy()\n",
    "pasted.paste(blended, (0, 0), ImageOps.invert(qrimg.convert(\"L\")).resize(imgs[0].size))\n",
    "pasted"
   ]
  },
  {
   "cell_type": "code",
   "execution_count": null,
   "metadata": {},
   "outputs": [],
   "source": [
    "w=1024\n",
    "h=1024\n",
    "\n",
    "prompt = \"Fantasy painting in the style of Frank Frazetta, a blue rat running in a spice storage room, Comic book cover art, Sword and sorcery\"\n",
    "# prompt = \"Fantasy painting in the style of Frank Frazetta\"\n",
    "negative_prompt = \"humans, swords, monsters\"\n",
    "\n",
    "kwargs = {\n",
    "    \"image\": resize_for_condition_image(imgs[0], w),\n",
    "    \"control_image\": resize_for_condition_image(qrimg, w),\n",
    "    \"strength\": 0.4,\n",
    "    \"guidance_scale\": 7,\n",
    "    \"num_inference_steps\": 60,\n",
    "    \"w\": w,\n",
    "    \"h\": h,\n",
    "    \"controlnet_conditioning_scale\": 4.0,\n",
    "    \"control_guidance_start\": 0.0,\n",
    "    \"control_guidance_end\": 1.0,\n",
    "}\n",
    "\n",
    "set_lpw_embeeds_sdxl(cn_pipeline, prompt, negative_prompt, 1, kwargs)\n",
    "\n",
    "generator = torch.Generator(device=\"cuda\").manual_seed(1)\n",
    "cn_pipeline(**kwargs).images[0]"
   ]
  },
  {
   "cell_type": "code",
   "execution_count": null,
   "metadata": {},
   "outputs": [],
   "source": [
    "cn_pipeline.unload_ip_adapter()"
   ]
  },
  {
   "cell_type": "code",
   "execution_count": null,
   "metadata": {},
   "outputs": [],
   "source": [
    "cn_pipeline.load_ip_adapter(\n",
    "            \"h94/IP-Adapter\", \n",
    "            subfolder=\"sdxl_models\", \n",
    "            weight_name=\"ip-adapter-plus_sdxl_vit-h.safetensors\", \n",
    "            image_encoder_folder=\"models/image_encoder\")"
   ]
  },
  {
   "cell_type": "code",
   "execution_count": null,
   "metadata": {},
   "outputs": [],
   "source": [
    "w=1024\n",
    "h=1024\n",
    "generator = torch.Generator(device=\"cuda\").manual_seed(1)\n",
    "\n",
    "cn_pipeline.set_ip_adapter_scale(0.0)\n",
    "\n",
    "prompt = \"Fantasy painting in the style of Frank Frazetta, a blue rat running in a spice storage room, Comic book cover art, Sword and sorcery\"\n",
    "# prompt = \"Fantasy painting in the style of Frank Frazetta\"\n",
    "negative_prompt = \"humans, swords, monsters\"\n",
    "\n",
    "kwargs = {\n",
    "    \"ip_adapter_image\": imgs[0],\n",
    "    \"image\": resize_for_condition_image(imgs[0], w),\n",
    "    \"control_image\": resize_for_condition_image(qrimg, w),\n",
    "    \"strength\": 0.4,\n",
    "    \"guidance_scale\": 15,\n",
    "    \"num_inference_steps\": 60,\n",
    "    \"w\": w,\n",
    "    \"h\": h,\n",
    "    \"controlnet_conditioning_scale\": 1.0,\n",
    "    \"control_guidance_start\": 0.0,\n",
    "    \"control_guidance_end\": 1.0,\n",
    "    \"generator\": generator,\n",
    "}\n",
    "\n",
    "kwargs = set_lpw_embeeds_sdxl(cn_pipeline, prompt, negative_prompt, 1, kwargs)\n",
    "\n",
    "cn_pipeline(\n",
    "   **kwargs\n",
    ").images[0]"
   ]
  }
 ],
 "metadata": {
  "kernelspec": {
   "display_name": "fantastic",
   "language": "python",
   "name": "python3"
  },
  "language_info": {
   "codemirror_mode": {
    "name": "ipython",
    "version": 3
   },
   "file_extension": ".py",
   "mimetype": "text/x-python",
   "name": "python",
   "nbconvert_exporter": "python",
   "pygments_lexer": "ipython3",
   "version": "3.8.18"
  }
 },
 "nbformat": 4,
 "nbformat_minor": 2
}
