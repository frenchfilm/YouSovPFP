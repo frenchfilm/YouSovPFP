{
 "cells": [
  {
   "cell_type": "code",
   "execution_count": null,
   "metadata": {},
   "outputs": [],
   "source": [
    "from diffusers import StableDiffusionXLInpaintPipeline, AutoencoderKL, StableDiffusionXLPipeline, StableDiffusionXLImg2ImgPipeline, ControlNetModel, StableDiffusionXLControlNetImg2ImgPipeline\n",
    "import torch\n",
    "from PIL import Image, ImageOps\n",
    "import numpy as np\n",
    "import cv2\n",
    "import os"
   ]
  },
  {
   "cell_type": "code",
   "execution_count": null,
   "metadata": {},
   "outputs": [],
   "source": [
    "vae = AutoencoderKL.from_pretrained(\"stabilityai/sdxl-vae\", torch_dtype=torch.float16)\n",
    "pipe = StableDiffusionXLPipeline.from_single_file(\"/home/oleksandr/projects/upwork/LoDi-Engine-Runpod/models_hotswap/juggernautXL_v7Rundiffusion.10002.safetensors\", torch_dtype=torch.float16).to(torch.device('cuda'))\n",
    "pipe_img2img = StableDiffusionXLImg2ImgPipeline(**pipe.components)\n",
    "controlnet_cn = ControlNetModel.from_pretrained(\n",
    "        \"diffusers/controlnet-canny-sdxl-1.0\", \n",
    "        torch_dtype=torch.float16, \n",
    "        variant=\"fp16\",\n",
    "        use_safetensors=True,\n",
    "    ).to(\"cuda\")\n",
    "pipe_cn = StableDiffusionXLControlNetImg2ImgPipeline(**pipe.components, controlnet=controlnet_cn).to(\"cuda\")"
   ]
  },
  {
   "cell_type": "code",
   "execution_count": null,
   "metadata": {},
   "outputs": [],
   "source": [
    "qrimg = Image.open(\"/home/oleksandr/projects/upwork/esov-api/tmp/qr/Piece 01.png\")\n",
    "style_fold = \"/home/oleksandr/projects/upwork/esov-api/tmp/qr/Reference - General Style\"\n",
    "img_fold = \"/home/oleksandr/projects/upwork/esov-api/tmp/qr/Style Scene 001\"\n",
    "\n",
    "style_imgs = []\n",
    "for file in os.listdir(style_fold):\n",
    "    style_img = Image.open(os.path.join(style_fold, file)).convert(\"RGB\")\n",
    "    style_imgs.append(style_img)\n",
    "\n",
    "imgs = []\n",
    "for file in os.listdir(img_fold):\n",
    "    img = Image.open(os.path.join(img_fold, file)).convert(\"RGB\")\n",
    "    imgs.append(img)\n",
    "\n",
    "print(f\"QR Image size: {qrimg.size}\")\n",
    "print(f\"Style Image size: {style_imgs[0].size}\")\n",
    "print(f\"Image size: {imgs[0].size}\")"
   ]
  },
  {
   "cell_type": "code",
   "execution_count": null,
   "metadata": {},
   "outputs": [],
   "source": [
    "ImageOps.invert(qrimg.convert(\"L\")).convert(\"L\")"
   ]
  },
  {
   "cell_type": "code",
   "execution_count": null,
   "metadata": {},
   "outputs": [],
   "source": [
    "# overlay img[0] and qrimg with qrimg mask and 0.5 blend\n",
    "qr_img_resized = qrimg.resize(imgs[0].size).convert(\"RGBA\")\n",
    "to_blend = imgs[0].copy().convert(\"RGBA\")\n",
    "blended = Image.blend(to_blend, qr_img_resized, 0.7)\n",
    "pasted = imgs[0].copy()\n",
    "pasted.paste(blended, (0, 0), ImageOps.invert(qrimg.convert(\"L\")).resize(imgs[0].size))\n",
    "pasted"
   ]
  },
  {
   "cell_type": "code",
   "execution_count": null,
   "metadata": {},
   "outputs": [],
   "source": [
    "def getCannyCondImage(pilimg, low_threshold=100, high_threshold=200):\n",
    "    img = np.array(pilimg)\n",
    "    edges = cv2.Canny(img, low_threshold, high_threshold)\n",
    "    return Image.fromarray(edges)\n",
    "condimg = getCannyCondImage(qrimg)\n",
    "condimg"
   ]
  },
  {
   "cell_type": "code",
   "execution_count": null,
   "metadata": {},
   "outputs": [],
   "source": [
    "w=1024\n",
    "h=1024\n",
    "\n",
    "generator = torch.Generator(device=\"cuda\").manual_seed(1)\n",
    "pipe_cn(\n",
    "    \"image with bars over it\",\n",
    "    negative_prompt=\"\",\n",
    "    image=imgs[0].resize((w, h)),\n",
    "    control_image = condimg.resize((w, h)),\n",
    "    strength=0.4,\n",
    "    guidance_scale=20,\n",
    "    num_inference_steps=60,\n",
    "    generator=generator,\n",
    "    w=w,\n",
    "    h=h,\n",
    "    controlnet_conditioning_scale=3.0,\n",
    ").images[0]"
   ]
  }
 ],
 "metadata": {
  "kernelspec": {
   "display_name": "fantastic",
   "language": "python",
   "name": "python3"
  },
  "language_info": {
   "codemirror_mode": {
    "name": "ipython",
    "version": 3
   },
   "file_extension": ".py",
   "mimetype": "text/x-python",
   "name": "python",
   "nbconvert_exporter": "python",
   "pygments_lexer": "ipython3",
   "version": "3.8.18"
  }
 },
 "nbformat": 4,
 "nbformat_minor": 2
}
